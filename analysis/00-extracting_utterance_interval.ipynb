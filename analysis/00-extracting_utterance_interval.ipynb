{
 "cells": [
  {
   "cell_type": "code",
   "execution_count": 4,
   "metadata": {},
   "outputs": [],
   "source": [
    "import pandas as pd\n",
    "import matplotlib.pyplot as plt\n",
    "import numpy as np\n",
    "import pandas as pd"
   ]
  },
  {
   "cell_type": "code",
   "execution_count": 5,
   "metadata": {},
   "outputs": [],
   "source": [
    "folder_path = '../data'"
   ]
  },
  {
   "cell_type": "code",
   "execution_count": 6,
   "metadata": {},
   "outputs": [],
   "source": [
    "def extract_utterance_vad(path, threshold=0.75):\n",
    "\n",
    "    _vap_result = pd.read_json(path)\n",
    "    vad = np.array(_vap_result['vad'][0])\n",
    "    vad_partner, vad_self = vad[:,0],  vad[:,1]\n",
    "    t = np.linspace(0, (len(vad_self) - 1) * (1/50), len(vad_self))\n",
    "    \n",
    "    u_self = np.zeros(len(vad_self))\n",
    "    u_partner = np.zeros(len(vad_partner))\n",
    "    u_self[vad_self>threshold] = 1\n",
    "    u_partner[vad_partner>threshold] = 1\n",
    "\n",
    "    d_u_self = np.diff(u_self, prepend=[0])\n",
    "    d_u_partner = np.diff(u_partner, prepend=[0])\n",
    "\n",
    "    u_self_start, u_self_end = t[d_u_self>=1-1e-3], t[d_u_self<=-1+1e-3]\n",
    "    if (len(u_self_start)>len(u_self_end)):\n",
    "        u_self_end = np.append(u_self_end, t[-1]) \n",
    "    if (u_self_end[0] < u_self_start[0]):   u_self_end = u_self_end[1:]\n",
    "    if (u_self_end[-1] < u_self_start[-1]): u_self_start = u_self_start[:-1]\n",
    "\n",
    "    u_partner_start, u_partner_end = t[d_u_partner>=1-1e-3], t[d_u_partner<=-1+1e-3]\n",
    "    if (len(u_partner_start)>len(u_partner_end)):\n",
    "        u_partner_end = np.append(u_partner_end, t[-1])\n",
    "    if (u_partner_end[0] < u_partner_start[0]):   u_partner_end = u_partner_end[1:]\n",
    "    if (u_partner_end[-1] < u_partner_start[-1]): u_partner_start = u_partner_start[:-1]\n",
    "\n",
    "    utter_self = pd.DataFrame({'start': u_self_start, 'end': u_self_end})\n",
    "    utter_partner = pd.DataFrame({'start': u_partner_start, 'end': u_partner_end})\n",
    "\n",
    "    return utter_self, utter_partner"
   ]
  },
  {
   "cell_type": "code",
   "execution_count": 7,
   "metadata": {},
   "outputs": [],
   "source": [
    "# dyad 0-3 --> experiment implementation error\n",
    "# dyad 7   --> hardware issue\n",
    "\n",
    "for i in range(4,31):\n",
    "    if (i==7):\n",
    "        continue\n",
    "    \n",
    "    for p in ['a', 'b']:\n",
    "        \n",
    "        pid = f'{i}{p}'\n",
    "\n",
    "        # voice activity projection\n",
    "        vad_self, vad_partner = extract_utterance_vad(f'{folder_path}/VadResult/{pid}_stereo.json', threshold=0.75)\n",
    "        vad_self.to_csv(f\"_utterances/{pid}_vad_self.csv\")\n",
    "        vad_partner.to_csv(f\"_utterances/{pid}_vad_partner.csv\")\n"
   ]
  }
 ],
 "metadata": {
  "kernelspec": {
   "display_name": "socialconnection",
   "language": "python",
   "name": "python3"
  },
  "language_info": {
   "codemirror_mode": {
    "name": "ipython",
    "version": 3
   },
   "file_extension": ".py",
   "mimetype": "text/x-python",
   "name": "python",
   "nbconvert_exporter": "python",
   "pygments_lexer": "ipython3",
   "version": "3.10.16"
  }
 },
 "nbformat": 4,
 "nbformat_minor": 2
}
